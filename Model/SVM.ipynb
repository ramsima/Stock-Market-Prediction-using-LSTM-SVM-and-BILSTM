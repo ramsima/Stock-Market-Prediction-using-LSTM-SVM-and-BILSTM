{
 "cells": [
  {
   "cell_type": "code",
   "execution_count": 2,
   "id": "94ba6ae8-764a-44b0-98b2-b8eeb156fb8a",
   "metadata": {},
   "outputs": [
    {
     "name": "stdout",
     "output_type": "stream",
     "text": [
      "WARNING:tensorflow:From C:\\Users\\ramsi\\AppData\\Local\\Programs\\Python\\Python311\\Lib\\site-packages\\keras\\src\\losses.py:2976: The name tf.losses.sparse_softmax_cross_entropy is deprecated. Please use tf.compat.v1.losses.sparse_softmax_cross_entropy instead.\n",
      "\n"
     ]
    }
   ],
   "source": [
    "import pandas as pd\n",
    "from sklearn.svm import SVR\n",
    "from sklearn.model_selection import train_test_split\n",
    "from sklearn.metrics import mean_squared_error, mean_absolute_error, r2_score\n",
    "import numpy as np\n",
    "import numpy as np\n",
    "from tensorflow.keras.models import Sequential\n",
    "from tensorflow.keras.layers import LSTM, Dense, Dropout\n",
    "import numpy\n",
    "import pandas as pd\n",
    "from keras.models import load_model\n",
    "import streamlit as st\n",
    "import matplotlib.pyplot as plt\n",
    "import matplotlib.pyplot as plt\n",
    "from sklearn.preprocessing import MinMaxScaler\n",
    "from sklearn.svm import SVR\n",
    "from sklearn.model_selection import train_test_split\n",
    "from sklearn.metrics import mean_squared_error, mean_absolute_error, r2_score\n",
    "import pickle\n",
    "import seaborn as sns\n",
    "from sklearn.preprocessing import StandardScaler\n"
   ]
  },
  {
   "cell_type": "code",
   "execution_count": 38,
   "id": "aa730486-a6cd-4e9e-b073-56fa8cf2d478",
   "metadata": {},
   "outputs": [],
   "source": [
    "df = pd.read_csv(\"nepse_data.csv\")"
   ]
  },
  {
   "cell_type": "code",
   "execution_count": 39,
   "id": "3719060e-cf17-42ee-b9b9-f632c275ffd6",
   "metadata": {},
   "outputs": [],
   "source": [
    "df.dropna(inplace=True)"
   ]
  },
  {
   "cell_type": "code",
   "execution_count": 40,
   "id": "1801360a-388f-42e6-b75a-33d37fc2fa3b",
   "metadata": {},
   "outputs": [],
   "source": [
    "    # Sort the dataframe by date\n",
    "    df = df.sort_values('Date')"
   ]
  },
  {
   "cell_type": "code",
   "execution_count": 46,
   "id": "4d5c8fc1-a7be-43d7-afd6-6a39d0d3fd6b",
   "metadata": {},
   "outputs": [
    {
     "data": {
      "text/html": [
       "<div>\n",
       "<style scoped>\n",
       "    .dataframe tbody tr th:only-of-type {\n",
       "        vertical-align: middle;\n",
       "    }\n",
       "\n",
       "    .dataframe tbody tr th {\n",
       "        vertical-align: top;\n",
       "    }\n",
       "\n",
       "    .dataframe thead th {\n",
       "        text-align: right;\n",
       "    }\n",
       "</style>\n",
       "<table border=\"1\" class=\"dataframe\">\n",
       "  <thead>\n",
       "    <tr style=\"text-align: right;\">\n",
       "      <th></th>\n",
       "      <th>Symbol</th>\n",
       "      <th>Date</th>\n",
       "      <th>Open</th>\n",
       "      <th>High</th>\n",
       "      <th>Low</th>\n",
       "      <th>Close</th>\n",
       "      <th>Percent Change</th>\n",
       "      <th>Volume</th>\n",
       "    </tr>\n",
       "  </thead>\n",
       "  <tbody>\n",
       "    <tr>\n",
       "      <th>1129</th>\n",
       "      <td>NEPSE</td>\n",
       "      <td>2019-01-27</td>\n",
       "      <td>1171.35</td>\n",
       "      <td>1171.72</td>\n",
       "      <td>1160.84</td>\n",
       "      <td>1160.84</td>\n",
       "      <td>0.00</td>\n",
       "      <td>306,070,016.00</td>\n",
       "    </tr>\n",
       "    <tr>\n",
       "      <th>1128</th>\n",
       "      <td>NEPSE</td>\n",
       "      <td>2019-01-28</td>\n",
       "      <td>1162.94</td>\n",
       "      <td>1164.89</td>\n",
       "      <td>1161.48</td>\n",
       "      <td>1164.89</td>\n",
       "      <td>0.00</td>\n",
       "      <td>203,579,008.00</td>\n",
       "    </tr>\n",
       "    <tr>\n",
       "      <th>1127</th>\n",
       "      <td>NEPSE</td>\n",
       "      <td>2019-01-29</td>\n",
       "      <td>1164.91</td>\n",
       "      <td>1165.09</td>\n",
       "      <td>1160.10</td>\n",
       "      <td>1160.99</td>\n",
       "      <td>0.00</td>\n",
       "      <td>259,283,008.00</td>\n",
       "    </tr>\n",
       "    <tr>\n",
       "      <th>1126</th>\n",
       "      <td>NEPSE</td>\n",
       "      <td>2019-01-30</td>\n",
       "      <td>1160.53</td>\n",
       "      <td>1163.27</td>\n",
       "      <td>1159.35</td>\n",
       "      <td>1160.59</td>\n",
       "      <td>0.00</td>\n",
       "      <td>190,572,992.00</td>\n",
       "    </tr>\n",
       "    <tr>\n",
       "      <th>1125</th>\n",
       "      <td>NEPSE</td>\n",
       "      <td>2019-01-31</td>\n",
       "      <td>1162.34</td>\n",
       "      <td>1163.86</td>\n",
       "      <td>1160.26</td>\n",
       "      <td>1161.63</td>\n",
       "      <td>0.00</td>\n",
       "      <td>268,244,992.00</td>\n",
       "    </tr>\n",
       "    <tr>\n",
       "      <th>...</th>\n",
       "      <td>...</td>\n",
       "      <td>...</td>\n",
       "      <td>...</td>\n",
       "      <td>...</td>\n",
       "      <td>...</td>\n",
       "      <td>...</td>\n",
       "      <td>...</td>\n",
       "      <td>...</td>\n",
       "    </tr>\n",
       "    <tr>\n",
       "      <th>4</th>\n",
       "      <td>NEPSE</td>\n",
       "      <td>2024-01-08</td>\n",
       "      <td>2025.89</td>\n",
       "      <td>2059.66</td>\n",
       "      <td>2025.62</td>\n",
       "      <td>2059.49</td>\n",
       "      <td>1.80</td>\n",
       "      <td>4,675,224,906.28</td>\n",
       "    </tr>\n",
       "    <tr>\n",
       "      <th>3</th>\n",
       "      <td>NEPSE</td>\n",
       "      <td>2024-01-09</td>\n",
       "      <td>2063.56</td>\n",
       "      <td>2098.04</td>\n",
       "      <td>2063.42</td>\n",
       "      <td>2080.12</td>\n",
       "      <td>1.00</td>\n",
       "      <td>6,118,317,866.67</td>\n",
       "    </tr>\n",
       "    <tr>\n",
       "      <th>2</th>\n",
       "      <td>NEPSE</td>\n",
       "      <td>2024-01-10</td>\n",
       "      <td>2084.59</td>\n",
       "      <td>2116.44</td>\n",
       "      <td>2084.44</td>\n",
       "      <td>2089.62</td>\n",
       "      <td>0.45</td>\n",
       "      <td>5,134,848,789.38</td>\n",
       "    </tr>\n",
       "    <tr>\n",
       "      <th>1</th>\n",
       "      <td>NEPSE</td>\n",
       "      <td>2024-01-11</td>\n",
       "      <td>2091.28</td>\n",
       "      <td>2106.43</td>\n",
       "      <td>2082.49</td>\n",
       "      <td>2088.99</td>\n",
       "      <td>-0.03</td>\n",
       "      <td>4,307,763,277.27</td>\n",
       "    </tr>\n",
       "    <tr>\n",
       "      <th>0</th>\n",
       "      <td>NEPSE</td>\n",
       "      <td>2024-01-14</td>\n",
       "      <td>2093.48</td>\n",
       "      <td>2121.67</td>\n",
       "      <td>2093.44</td>\n",
       "      <td>2120.62</td>\n",
       "      <td>1.51</td>\n",
       "      <td>5,450,421,806.40</td>\n",
       "    </tr>\n",
       "  </tbody>\n",
       "</table>\n",
       "<p>1130 rows × 8 columns</p>\n",
       "</div>"
      ],
      "text/plain": [
       "     Symbol        Date     Open     High      Low    Close  Percent Change  \\\n",
       "1129  NEPSE  2019-01-27  1171.35  1171.72  1160.84  1160.84            0.00   \n",
       "1128  NEPSE  2019-01-28  1162.94  1164.89  1161.48  1164.89            0.00   \n",
       "1127  NEPSE  2019-01-29  1164.91  1165.09  1160.10  1160.99            0.00   \n",
       "1126  NEPSE  2019-01-30  1160.53  1163.27  1159.35  1160.59            0.00   \n",
       "1125  NEPSE  2019-01-31  1162.34  1163.86  1160.26  1161.63            0.00   \n",
       "...     ...         ...      ...      ...      ...      ...             ...   \n",
       "4     NEPSE  2024-01-08  2025.89  2059.66  2025.62  2059.49            1.80   \n",
       "3     NEPSE  2024-01-09  2063.56  2098.04  2063.42  2080.12            1.00   \n",
       "2     NEPSE  2024-01-10  2084.59  2116.44  2084.44  2089.62            0.45   \n",
       "1     NEPSE  2024-01-11  2091.28  2106.43  2082.49  2088.99           -0.03   \n",
       "0     NEPSE  2024-01-14  2093.48  2121.67  2093.44  2120.62            1.51   \n",
       "\n",
       "                Volume  \n",
       "1129    306,070,016.00  \n",
       "1128    203,579,008.00  \n",
       "1127    259,283,008.00  \n",
       "1126    190,572,992.00  \n",
       "1125    268,244,992.00  \n",
       "...                ...  \n",
       "4     4,675,224,906.28  \n",
       "3     6,118,317,866.67  \n",
       "2     5,134,848,789.38  \n",
       "1     4,307,763,277.27  \n",
       "0     5,450,421,806.40  \n",
       "\n",
       "[1130 rows x 8 columns]"
      ]
     },
     "execution_count": 46,
     "metadata": {},
     "output_type": "execute_result"
    }
   ],
   "source": [
    "df"
   ]
  },
  {
   "cell_type": "code",
   "execution_count": 43,
   "id": "4f81b97b-9318-486d-a220-cd796d0da4d9",
   "metadata": {},
   "outputs": [],
   "source": [
    "    # Convert '--' to 0 in the 'Percent Change' column\n",
    "    df['Percent Change'] = df['Percent Change'].str.replace('--', '0')"
   ]
  },
  {
   "cell_type": "code",
   "execution_count": 44,
   "id": "a5eeca30-47ee-487c-9d7c-f483a848de41",
   "metadata": {},
   "outputs": [],
   "source": [
    "\n",
    "    # Convert '--' to 0 in the 'Percent Change' column\n",
    "    df['Percent Change'] = df['Percent Change'].str.replace('%', \"\")"
   ]
  },
  {
   "cell_type": "code",
   "execution_count": 45,
   "id": "c76f6a74-598b-4b48-91b3-596af4beda72",
   "metadata": {},
   "outputs": [],
   "source": [
    "    # Convert 'Percent Change' column to float\n",
    "    df['Percent Change'] = df['Percent Change'].astype(float)"
   ]
  },
  {
   "cell_type": "code",
   "execution_count": 47,
   "id": "17e692ec-7483-4d2c-8f31-5da2c0020358",
   "metadata": {},
   "outputs": [],
   "source": [
    "    # Create features and target variables\n",
    "    X = df[['Open', 'High', 'Low', 'Percent Change']]\n",
    "    y = df['Close']"
   ]
  },
  {
   "cell_type": "code",
   "execution_count": 48,
   "id": "3c7e1a8d-4bf1-43bb-b7b5-b2e71b474088",
   "metadata": {},
   "outputs": [],
   "source": [
    "    # Split the data into train and test sets\n",
    "    X_train, X_test, y_train, y_test = train_test_split(X, y, test_size=0.2, random_state=55)"
   ]
  },
  {
   "cell_type": "code",
   "execution_count": 49,
   "id": "88f8d468-18bf-4dcd-b406-af702afb1968",
   "metadata": {},
   "outputs": [],
   "source": [
    "    # Create an SVR model\n",
    "    svr = SVR()\n"
   ]
  },
  {
   "cell_type": "code",
   "execution_count": 50,
   "id": "95ea4a7a-1cbf-4dc7-bdd9-2b1f2e21148c",
   "metadata": {},
   "outputs": [
    {
     "data": {
      "text/html": [
       "<style>#sk-container-id-1 {color: black;}#sk-container-id-1 pre{padding: 0;}#sk-container-id-1 div.sk-toggleable {background-color: white;}#sk-container-id-1 label.sk-toggleable__label {cursor: pointer;display: block;width: 100%;margin-bottom: 0;padding: 0.3em;box-sizing: border-box;text-align: center;}#sk-container-id-1 label.sk-toggleable__label-arrow:before {content: \"▸\";float: left;margin-right: 0.25em;color: #696969;}#sk-container-id-1 label.sk-toggleable__label-arrow:hover:before {color: black;}#sk-container-id-1 div.sk-estimator:hover label.sk-toggleable__label-arrow:before {color: black;}#sk-container-id-1 div.sk-toggleable__content {max-height: 0;max-width: 0;overflow: hidden;text-align: left;background-color: #f0f8ff;}#sk-container-id-1 div.sk-toggleable__content pre {margin: 0.2em;color: black;border-radius: 0.25em;background-color: #f0f8ff;}#sk-container-id-1 input.sk-toggleable__control:checked~div.sk-toggleable__content {max-height: 200px;max-width: 100%;overflow: auto;}#sk-container-id-1 input.sk-toggleable__control:checked~label.sk-toggleable__label-arrow:before {content: \"▾\";}#sk-container-id-1 div.sk-estimator input.sk-toggleable__control:checked~label.sk-toggleable__label {background-color: #d4ebff;}#sk-container-id-1 div.sk-label input.sk-toggleable__control:checked~label.sk-toggleable__label {background-color: #d4ebff;}#sk-container-id-1 input.sk-hidden--visually {border: 0;clip: rect(1px 1px 1px 1px);clip: rect(1px, 1px, 1px, 1px);height: 1px;margin: -1px;overflow: hidden;padding: 0;position: absolute;width: 1px;}#sk-container-id-1 div.sk-estimator {font-family: monospace;background-color: #f0f8ff;border: 1px dotted black;border-radius: 0.25em;box-sizing: border-box;margin-bottom: 0.5em;}#sk-container-id-1 div.sk-estimator:hover {background-color: #d4ebff;}#sk-container-id-1 div.sk-parallel-item::after {content: \"\";width: 100%;border-bottom: 1px solid gray;flex-grow: 1;}#sk-container-id-1 div.sk-label:hover label.sk-toggleable__label {background-color: #d4ebff;}#sk-container-id-1 div.sk-serial::before {content: \"\";position: absolute;border-left: 1px solid gray;box-sizing: border-box;top: 0;bottom: 0;left: 50%;z-index: 0;}#sk-container-id-1 div.sk-serial {display: flex;flex-direction: column;align-items: center;background-color: white;padding-right: 0.2em;padding-left: 0.2em;position: relative;}#sk-container-id-1 div.sk-item {position: relative;z-index: 1;}#sk-container-id-1 div.sk-parallel {display: flex;align-items: stretch;justify-content: center;background-color: white;position: relative;}#sk-container-id-1 div.sk-item::before, #sk-container-id-1 div.sk-parallel-item::before {content: \"\";position: absolute;border-left: 1px solid gray;box-sizing: border-box;top: 0;bottom: 0;left: 50%;z-index: -1;}#sk-container-id-1 div.sk-parallel-item {display: flex;flex-direction: column;z-index: 1;position: relative;background-color: white;}#sk-container-id-1 div.sk-parallel-item:first-child::after {align-self: flex-end;width: 50%;}#sk-container-id-1 div.sk-parallel-item:last-child::after {align-self: flex-start;width: 50%;}#sk-container-id-1 div.sk-parallel-item:only-child::after {width: 0;}#sk-container-id-1 div.sk-dashed-wrapped {border: 1px dashed gray;margin: 0 0.4em 0.5em 0.4em;box-sizing: border-box;padding-bottom: 0.4em;background-color: white;}#sk-container-id-1 div.sk-label label {font-family: monospace;font-weight: bold;display: inline-block;line-height: 1.2em;}#sk-container-id-1 div.sk-label-container {text-align: center;}#sk-container-id-1 div.sk-container {/* jupyter's `normalize.less` sets `[hidden] { display: none; }` but bootstrap.min.css set `[hidden] { display: none !important; }` so we also need the `!important` here to be able to override the default hidden behavior on the sphinx rendered scikit-learn.org. See: https://github.com/scikit-learn/scikit-learn/issues/21755 */display: inline-block !important;position: relative;}#sk-container-id-1 div.sk-text-repr-fallback {display: none;}</style><div id=\"sk-container-id-1\" class=\"sk-top-container\"><div class=\"sk-text-repr-fallback\"><pre>SVR()</pre><b>In a Jupyter environment, please rerun this cell to show the HTML representation or trust the notebook. <br />On GitHub, the HTML representation is unable to render, please try loading this page with nbviewer.org.</b></div><div class=\"sk-container\" hidden><div class=\"sk-item\"><div class=\"sk-estimator sk-toggleable\"><input class=\"sk-toggleable__control sk-hidden--visually\" id=\"sk-estimator-id-1\" type=\"checkbox\" checked><label for=\"sk-estimator-id-1\" class=\"sk-toggleable__label sk-toggleable__label-arrow\">SVR</label><div class=\"sk-toggleable__content\"><pre>SVR()</pre></div></div></div></div></div>"
      ],
      "text/plain": [
       "SVR()"
      ]
     },
     "execution_count": 50,
     "metadata": {},
     "output_type": "execute_result"
    }
   ],
   "source": [
    "    # Fit the model\n",
    "    svr.fit(X_train, y_train)"
   ]
  },
  {
   "cell_type": "code",
   "execution_count": 51,
   "id": "b4f57237-74c1-49de-af14-2b4f39d6fb0d",
   "metadata": {},
   "outputs": [],
   "source": [
    "    # Make predictions on the test set\n",
    "    y_pred = svr.predict(X_test)"
   ]
  },
  {
   "cell_type": "code",
   "execution_count": 53,
   "id": "d4f41f16-cc39-48f4-8bb8-25b1d409fd59",
   "metadata": {},
   "outputs": [
    {
     "name": "stdout",
     "output_type": "stream",
     "text": [
      "Training RMSE: 395.0500558013131\n",
      "Training MAE: 309.52157877514367\n",
      "Training R2: 0.5075668609546591\n",
      "Test RMSE: 419.90367689279196\n",
      "Test MAE: 344.0844663535454\n",
      "Test R2: 0.5034151097447597\n"
     ]
    }
   ],
   "source": [
    "    # Calculate RMSE, MAE, and R2 for training set\n",
    "    train_rmse = np.sqrt(mean_squared_error(y_train, svr.predict(X_train)))\n",
    "    train_mae = mean_absolute_error(y_train, svr.predict(X_train))\n",
    "    train_r2 = r2_score(y_train, svr.predict(X_train))\n",
    "\n",
    "    # Calculate RMSE, MAE, and R2 for test set\n",
    "    test_rmse = np.sqrt(mean_squared_error(y_test, y_pred))\n",
    "    test_mae = mean_absolute_error(y_test, y_pred)\n",
    "    test_r2 = r2_score(y_test, y_pred)\n",
    "\n",
    "    # Print evaluation metrics for training set\n",
    "    print(\"Training RMSE:\", train_rmse)\n",
    "    print(\"Training MAE:\", train_mae)\n",
    "    print(\"Training R2:\", train_r2)\n",
    "\n",
    "    # Print evaluation metrics for test set\n",
    "    print(\"Test RMSE:\", test_rmse)\n",
    "    print(\"Test MAE:\", test_mae)\n",
    "    print(\"Test R2:\", test_r2)\n"
   ]
  },
  {
   "cell_type": "code",
   "execution_count": 59,
   "id": "30263813-c456-46ef-a501-ec56ccfb76a5",
   "metadata": {},
   "outputs": [],
   "source": [
    "    # Forecast close prices for the upcoming week\n",
    "    last_day = df['Date'].max()\n",
    "    \n",
    "    forecast_features = df[['Open', 'High', 'Low', 'Percent Change']].tail(1).values\n"
   ]
  },
  {
   "cell_type": "code",
   "execution_count": 68,
   "id": "51ba54c1-5db6-4b85-a7fd-a762a52c1942",
   "metadata": {},
   "outputs": [
    {
     "name": "stderr",
     "output_type": "stream",
     "text": [
      "C:\\Users\\ramsi\\AppData\\Local\\Programs\\Python\\Python311\\Lib\\site-packages\\sklearn\\base.py:465: UserWarning: X does not have valid feature names, but SVR was fitted with feature names\n",
      "  warnings.warn(\n",
      "C:\\Users\\ramsi\\AppData\\Local\\Programs\\Python\\Python311\\Lib\\site-packages\\sklearn\\base.py:465: UserWarning: X does not have valid feature names, but SVR was fitted with feature names\n",
      "  warnings.warn(\n",
      "C:\\Users\\ramsi\\AppData\\Local\\Programs\\Python\\Python311\\Lib\\site-packages\\sklearn\\base.py:465: UserWarning: X does not have valid feature names, but SVR was fitted with feature names\n",
      "  warnings.warn(\n",
      "C:\\Users\\ramsi\\AppData\\Local\\Programs\\Python\\Python311\\Lib\\site-packages\\sklearn\\base.py:465: UserWarning: X does not have valid feature names, but SVR was fitted with feature names\n",
      "  warnings.warn(\n",
      "C:\\Users\\ramsi\\AppData\\Local\\Programs\\Python\\Python311\\Lib\\site-packages\\sklearn\\base.py:465: UserWarning: X does not have valid feature names, but SVR was fitted with feature names\n",
      "  warnings.warn(\n",
      "C:\\Users\\ramsi\\AppData\\Local\\Programs\\Python\\Python311\\Lib\\site-packages\\sklearn\\base.py:465: UserWarning: X does not have valid feature names, but SVR was fitted with feature names\n",
      "  warnings.warn(\n",
      "C:\\Users\\ramsi\\AppData\\Local\\Programs\\Python\\Python311\\Lib\\site-packages\\sklearn\\base.py:465: UserWarning: X does not have valid feature names, but SVR was fitted with feature names\n",
      "  warnings.warn(\n"
     ]
    }
   ],
   "source": [
    "predictions = []\n",
    "for _ in range(7):\n",
    "    prediction = svr.predict(forecast_features)[0]\n",
    "    predictions.append(prediction)\n",
    "    forecast_features = np.roll(forecast_features, -1, axis=0)\n",
    "    forecast_features[-1] = [df['Open'].iloc[-1], df['High'].iloc[-1], df['Low'].iloc[-1], predictions[-1]]"
   ]
  },
  {
   "cell_type": "code",
   "execution_count": 69,
   "id": "cee9ca7c-be1b-40f7-9fa9-b09237e7a999",
   "metadata": {},
   "outputs": [],
   "source": [
    "    # Create a DataFrame for the predictions\n",
    "    df_predictions = pd.DataFrame(predictions, columns=['close_price'])\n"
   ]
  },
  {
   "cell_type": "code",
   "execution_count": 70,
   "id": "2f5da3e7-ab1d-4cc7-85e0-94c865e48c17",
   "metadata": {},
   "outputs": [
    {
     "name": "stdout",
     "output_type": "stream",
     "text": [
      "   close_price\n",
      "0  1975.163194\n",
      "1  1975.163194\n",
      "2  1975.163194\n",
      "3  1975.163194\n",
      "4  1975.163194\n",
      "5  1975.163194\n",
      "6  1975.163194\n"
     ]
    }
   ],
   "source": [
    "    # Print the dataframe\n",
    "    print(df_predictions)"
   ]
  },
  {
   "cell_type": "code",
   "execution_count": null,
   "id": "90db64ac-7a80-42a8-bfed-bb352c8a30f9",
   "metadata": {},
   "outputs": [],
   "source": []
  }
 ],
 "metadata": {
  "kernelspec": {
   "display_name": "Python 3 (ipykernel)",
   "language": "python",
   "name": "python3"
  },
  "language_info": {
   "codemirror_mode": {
    "name": "ipython",
    "version": 3
   },
   "file_extension": ".py",
   "mimetype": "text/x-python",
   "name": "python",
   "nbconvert_exporter": "python",
   "pygments_lexer": "ipython3",
   "version": "3.11.7"
  }
 },
 "nbformat": 4,
 "nbformat_minor": 5
}
