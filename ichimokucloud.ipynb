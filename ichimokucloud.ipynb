{
 "cells": [
  {
   "cell_type": "code",
   "execution_count": 1,
   "id": "3e719e2c-b7d9-4c0a-b3d8-04323bf83ca0",
   "metadata": {},
   "outputs": [],
   "source": [
    "import numpy as np\n",
    "import plotly.graph_objects as go\n",
    "from plotly.subplots import make_subplots\n",
    "import pandas as pd\n"
   ]
  },
  {
   "cell_type": "code",
   "execution_count": 2,
   "id": "06aa0f4e-3920-4bb7-aa38-1ed5f205290c",
   "metadata": {},
   "outputs": [],
   "source": [
    "df = pd.read_csv('nepse_data.csv')"
   ]
  },
  {
   "cell_type": "code",
   "execution_count": 3,
   "id": "a1c0888f-870d-4808-baec-eebd497c1cf6",
   "metadata": {},
   "outputs": [],
   "source": [
    "df = df.sort_values('Date')"
   ]
  },
  {
   "cell_type": "code",
   "execution_count": 4,
   "id": "7348a6ed-c9d8-44e2-a495-78e2be806506",
   "metadata": {},
   "outputs": [],
   "source": [
    "#Conversion line\n",
    "hi_val = df['High'].rolling(window=9).max()\n",
    "low_val = df['Low'].rolling(window=9).min()\n",
    "df['Conversion'] = (hi_val + low_val) /2"
   ]
  },
  {
   "cell_type": "code",
   "execution_count": 5,
   "id": "fc3cb034-6fc0-482d-baf8-050f69ed9481",
   "metadata": {},
   "outputs": [],
   "source": [
    "# Base line\n",
    "hi_val2 = df['High'].rolling(window=26).max()\n",
    "low_val2 = df['Low'].rolling(window=26).min()\n",
    "df['Baseline'] = (hi_val2 + low_val2) /2"
   ]
  },
  {
   "cell_type": "code",
   "execution_count": 6,
   "id": "2c30fa1a-302b-47c4-bb1d-18d2bc29f997",
   "metadata": {},
   "outputs": [],
   "source": [
    "#leading span A\n",
    "df['SpanA'] = (df['Conversion']+ df['Baseline'])/2"
   ]
  },
  {
   "cell_type": "code",
   "execution_count": 7,
   "id": "e728dc20-00ac-4221-99b5-3d7751ab6bb6",
   "metadata": {},
   "outputs": [],
   "source": [
    "#leading span B\n",
    "hi_val3 = df['High'].rolling(window=52).max()\n",
    "low_val3 = df['Low'].rolling(window=52).min()\n",
    "df['SpanB'] = (hi_val3 + low_val3) /2"
   ]
  },
  {
   "cell_type": "code",
   "execution_count": 8,
   "id": "a89c569d-c6dd-47d6-8837-4c67baeb5969",
   "metadata": {},
   "outputs": [],
   "source": [
    "#lagging span\n",
    "df['Lagging'] = df['Close'].shift(-26)"
   ]
  },
  {
   "cell_type": "code",
   "execution_count": 9,
   "id": "1c8242f7-d96d-48e4-bbfa-2859c71617d4",
   "metadata": {},
   "outputs": [],
   "source": [
    "#create Candlestick\n",
    "candle = go.Candlestick(x=df.index, open=df['Open'].shift(-26),high=df['High'].shift(-26),low=df['Low'].shift(-26),close=df['Close'].shift(-26), name='Candlestick')"
   ]
  },
  {
   "cell_type": "code",
   "execution_count": 10,
   "id": "ed32e995-85fc-467d-a33b-cf76b8347d02",
   "metadata": {},
   "outputs": [],
   "source": [
    "def get_fill_color(label):\n",
    "    if label>=1:\n",
    "        return 'rgba(0,250,0,0.4)'\n",
    "    else:\n",
    "       return 'rgba(250,0,0,0.4)' "
   ]
  },
  {
   "cell_type": "code",
   "execution_count": 12,
   "id": "07ed905e-4391-4743-aeca-33e011ae89c5",
   "metadata": {},
   "outputs": [
    {
     "ename": "TypeError",
     "evalue": "tuple indices must be integers or slices, not str",
     "output_type": "error",
     "traceback": [
      "\u001b[1;31m---------------------------------------------------------------------------\u001b[0m",
      "\u001b[1;31mTypeError\u001b[0m                                 Traceback (most recent call last)",
      "Cell \u001b[1;32mIn[12], line 6\u001b[0m\n\u001b[0;32m      3\u001b[0m fig \u001b[38;5;241m=\u001b[39m go\u001b[38;5;241m.\u001b[39mFigure()\n\u001b[0;32m      4\u001b[0m fig \u001b[38;5;241m=\u001b[39m make_subplots(rows\u001b[38;5;241m=\u001b[39m\u001b[38;5;241m2\u001b[39m,cols\u001b[38;5;241m=\u001b[39m\u001b[38;5;241m1\u001b[39m,shared_xaxes\u001b[38;5;241m=\u001b[39m\u001b[38;5;124m\"\u001b[39m\u001b[38;5;124mcolumns\u001b[39m\u001b[38;5;124m\"\u001b[39m, shared_yaxes\u001b[38;5;241m=\u001b[39m\u001b[38;5;124m\"\u001b[39m\u001b[38;5;124mrows\u001b[39m\u001b[38;5;124m\"\u001b[39m, column_width\u001b[38;5;241m=\u001b[39m[\u001b[38;5;241m1\u001b[39m], row_heights\u001b[38;5;241m=\u001b[39m[\u001b[38;5;241m0.6\u001b[39m,\u001b[38;5;241m0.1\u001b[39m], subplot_titles\u001b[38;5;241m=\u001b[39m[\u001b[38;5;124m\"\u001b[39m\u001b[38;5;124mCandlestick\u001b[39m\u001b[38;5;124m\"\u001b[39m, \u001b[38;5;124m\"\u001b[39m\u001b[38;5;124mVolume\u001b[39m\u001b[38;5;124m\"\u001b[39m])\n\u001b[1;32m----> 6\u001b[0m df[\u001b[38;5;124m'\u001b[39m\u001b[38;5;124mlabel\u001b[39m\u001b[38;5;124m'\u001b[39m] \u001b[38;5;241m=\u001b[39m np\u001b[38;5;241m.\u001b[39mwhere(\u001b[43mdf\u001b[49m\u001b[43m[\u001b[49m\u001b[38;5;124;43m'\u001b[39;49m\u001b[38;5;124;43mSpanA\u001b[39;49m\u001b[38;5;124;43m'\u001b[39;49m\u001b[43m]\u001b[49m \u001b[38;5;241m>\u001b[39m df[\u001b[38;5;124m'\u001b[39m\u001b[38;5;124mSpanB\u001b[39m\u001b[38;5;124m'\u001b[39m], \u001b[38;5;241m1\u001b[39m,\u001b[38;5;241m0\u001b[39m)\n\u001b[0;32m      7\u001b[0m df[\u001b[38;5;124m'\u001b[39m\u001b[38;5;124mgroup\u001b[39m\u001b[38;5;124m'\u001b[39m] \u001b[38;5;241m=\u001b[39m df[\u001b[38;5;124m'\u001b[39m\u001b[38;5;124mlabel\u001b[39m\u001b[38;5;124m'\u001b[39m]\u001b[38;5;241m.\u001b[39mne(df[\u001b[38;5;124m'\u001b[39m\u001b[38;5;124mlabel\u001b[39m\u001b[38;5;124m'\u001b[39m]\u001b[38;5;241m.\u001b[39mshift())\u001b[38;5;241m.\u001b[39mcumsum()\n\u001b[0;32m      9\u001b[0m df \u001b[38;5;241m=\u001b[39m df\u001b[38;5;241m.\u001b[39mgroupby(\u001b[38;5;124m'\u001b[39m\u001b[38;5;124mgroup\u001b[39m\u001b[38;5;124m'\u001b[39m)\n",
      "\u001b[1;31mTypeError\u001b[0m: tuple indices must be integers or slices, not str"
     ]
    }
   ],
   "source": [
    "df1 = df\n",
    "\n",
    "fig = go.Figure()\n",
    "fig = make_subplots(rows=2,cols=1,shared_xaxes=\"columns\", shared_yaxes=\"rows\", column_width=[1], row_heights=[0.6,0.1], subplot_titles=[\"Candlestick\", \"Volume\"])\n",
    "\n",
    "df['label'] = np.where(df['SpanA'] > df['SpanB'], 1,0)\n",
    "df['group'] = df['label'].ne(df['label'].shift()).cumsum()\n",
    "\n",
    "df = df.groupby('group')\n",
    "\n",
    "dfs = []\n",
    "for , data in df:\n",
    "    dfs.append(data)\n",
    "\n",
    "for df in dfs:\n",
    "    fig.add_traces(go.Scatter(x=df.index, y= df.SpanA, line=dict(color='rgba(0,0,0,0)'), name ='Cloud'))\n",
    "    fig.add_traces(go.Scatter(x=df.index, y= df.SpanB, line=dict(color='rgba(0,0,0,0)'), fill='tonexty', fillcolor=get_fill_color(df['label'].iloc[0]), name='Cloud'))\n",
    "\n",
    "baseline = go.Scatter(x=df1.index, y=df1['Baseline'].shift(-26), line=dict(color='red',width = 1),name=\"Baseline\")\n",
    "conversion = go.Scatter(x=df1.index, y=df1['Conversion'].shift(-26), line=dict(color='blue',width = 1),name=\"Conversion\")\n",
    "lagging = go.Scatter(x=df1.index, y=df1['Lagging'].shift(-26), line=dict(color='green',width = 1),name=\"Lagging\")\n",
    "span_a = go.Scatter(x=df1.index, y=df1['SpanA'].shift(0), line=dict(color='green',width = 1),name=\"SpanA\")\n",
    "span_b = go.Scatter(x=df1.index, y=df1['SpanB'].shift(0), line=dict(color='red',width = 1),name=\"SpanB\")\n",
    "\n",
    "fig.add_trace(candle)\n",
    "fig.add_trace(baseline)\n",
    "fig.add_trace(conversion)\n",
    "fig.add_trace(lagging)\n",
    "fig.add_trace(span_a)\n",
    "fig.add_trace(span_b)\n",
    "\n",
    "fig.add_trace(go.Bar(x=df1.index, y=df1['Volume'], name='Volume'),col=1,row=2)\n",
    "fig.update_layout(width=1200,height=800,xaxis_rangeslider_visible=False,showlegend=True)\n",
    "\n",
    "fig.show()\n",
    "\n"
   ]
  },
  {
   "cell_type": "code",
   "execution_count": null,
   "id": "d2e23a47-445d-432c-967e-eec69d5736e6",
   "metadata": {},
   "outputs": [],
   "source": []
  }
 ],
 "metadata": {
  "kernelspec": {
   "display_name": "Python 3 (ipykernel)",
   "language": "python",
   "name": "python3"
  },
  "language_info": {
   "codemirror_mode": {
    "name": "ipython",
    "version": 3
   },
   "file_extension": ".py",
   "mimetype": "text/x-python",
   "name": "python",
   "nbconvert_exporter": "python",
   "pygments_lexer": "ipython3",
   "version": "3.11.7"
  }
 },
 "nbformat": 4,
 "nbformat_minor": 5
}
